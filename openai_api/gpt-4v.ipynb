{
 "cells": [
  {
   "cell_type": "markdown",
   "id": "b4b6a552-b7f0-433d-9a70-61c4fcc52d5d",
   "metadata": {},
   "source": [
    "# 快速入门 GPT-4 Vison\n",
    "\n",
    "从历史上看，语言模型系统仅接受**文本**作为输入。但是单一的输入形式，限制了大模型的应用落地范围。\n",
    "\n",
    "随着技术发展，OpenAI 开发的 GPT-4 Turbo with Vision（简称 GPT-4V）允许模型接收**图像**作为输入，并回答关于它们的问题。\n",
    "\n",
    "📢注意，目前在 Assistants API 中使用 GPT-4 时还不支持图像输入。"
   ]
  },
  {
   "cell_type": "markdown",
   "id": "3a701c56-0a2a-4dea-b458-234150b84ff2",
   "metadata": {},
   "source": [
    "## 使用 GPT-4V 识别线上图像（URL）\n",
    "\n",
    "![image_sample](https://upload.wikimedia.org/wikipedia/commons/thumb/d/dd/Gfp-wisconsin-madison-the-nature-boardwalk.jpg/2560px-Gfp-wisconsin-madison-the-nature-boardwalk.jpg)"
   ]
  },
  {
   "cell_type": "code",
   "execution_count": 7,
   "id": "bf8689b2-94f2-4a35-a332-9ffed0a56aca",
   "metadata": {},
   "outputs": [
    {
     "name": "stdout",
     "output_type": "stream",
     "text": [
      "Choice(finish_reason='stop', index=0, logprobs=None, message=ChatCompletionMessage(content='这幅图展示了一条木头栈道穿过郁郁葱葱的草地，通往远方的景色。画面中的栈道非常直，似乎引领观者进入这片自然风光之中。四周的草地茂密，绿色植物生机勃勃，配合着蓝天和散布的白云，展现出一种平和而宁静的氛围。这样的场景可能位于一个公园或自然保护区，是很受欢迎的散步和观赏自然的地点。\\n\\n整体上，这幅图充满了夏日的氛围，色彩鲜明且分布均衡，非常适合作为自然和户外活动类的插图或背景。此外，这样的环境也可能吸引各种野生动物和鸟类，成为生态观察的好地方。', role='assistant', function_call=None, tool_calls=None))\n"
     ]
    }
   ],
   "source": [
    "from openai import OpenAI\n",
    "\n",
    "client = OpenAI()\n",
    "\n",
    "response = client.chat.completions.create(\n",
    "  model=\"gpt-4-turbo\",\n",
    "  messages=[\n",
    "    {\n",
    "      \"role\": \"user\",\n",
    "      \"content\": [\n",
    "        {\"type\": \"text\", \"text\": \"介绍下这幅图?\"},\n",
    "        {\n",
    "          \"type\": \"image_url\",\n",
    "          \"image_url\": {\n",
    "            \"url\": \"https://upload.wikimedia.org/wikipedia/commons/thumb/d/dd/Gfp-wisconsin-madison-the-nature-boardwalk.jpg/2560px-Gfp-wisconsin-madison-the-nature-boardwalk.jpg\",\n",
    "          },\n",
    "        },\n",
    "      ],\n",
    "    }\n",
    "  ],\n",
    "  max_tokens=300,\n",
    ")\n",
    "\n",
    "print(response.choices[0])"
   ]
  },
  {
   "cell_type": "code",
   "execution_count": 8,
   "id": "9bcc9026-7485-428f-8269-ea9ae41405cb",
   "metadata": {},
   "outputs": [
    {
     "data": {
      "text/plain": [
       "'这幅图展示了一条木头栈道穿过郁郁葱葱的草地，通往远方的景色。画面中的栈道非常直，似乎引领观者进入这片自然风光之中。四周的草地茂密，绿色植物生机勃勃，配合着蓝天和散布的白云，展现出一种平和而宁静的氛围。这样的场景可能位于一个公园或自然保护区，是很受欢迎的散步和观赏自然的地点。\\n\\n整体上，这幅图充满了夏日的氛围，色彩鲜明且分布均衡，非常适合作为自然和户外活动类的插图或背景。此外，这样的环境也可能吸引各种野生动物和鸟类，成为生态观察的好地方。'"
      ]
     },
     "execution_count": 8,
     "metadata": {},
     "output_type": "execute_result"
    }
   ],
   "source": [
    "response.choices[0].message.content"
   ]
  },
  {
   "cell_type": "markdown",
   "id": "7fb50a14-fa14-4c63-9f81-b98b0f65d9d9",
   "metadata": {},
   "source": [
    "### 封装成一个函数 query_image_description"
   ]
  },
  {
   "cell_type": "code",
   "execution_count": 9,
   "id": "c1ca5428-c7e1-4d7e-91f1-d4a05e95ac51",
   "metadata": {},
   "outputs": [],
   "source": [
    "def query_image_description(url, prompt=\"介绍下这幅图?\"):\n",
    "    client = OpenAI()  # 初始化 OpenAI 客户端\n",
    "    \n",
    "    # 发送请求给 OpenAI 的聊天模型\n",
    "    response = client.chat.completions.create(\n",
    "        model=\"gpt-4-turbo\",  # 指定使用的模型\n",
    "        messages=[\n",
    "            {\n",
    "                \"role\": \"user\",\n",
    "                \"content\": [\n",
    "                    {\"type\": \"text\", \"text\": prompt},\n",
    "                    {\"type\": \"image_url\", \"image_url\": {\"url\": url}},\n",
    "                ],\n",
    "            }\n",
    "        ],\n",
    "        max_tokens=300,\n",
    "    )\n",
    "    \n",
    "    # 返回模型的响应\n",
    "    return response.choices[0].message.content\n"
   ]
  },
  {
   "cell_type": "markdown",
   "id": "a0d0aceb-7cc5-4da1-b6db-e47716ba145a",
   "metadata": {},
   "source": [
    "### 调用函数测试\n",
    "\n",
    "![meme_0](https://p6.itc.cn/q_70/images03/20200602/0c267a0d3d814c9783659eb956969ba1.jpeg)"
   ]
  },
  {
   "cell_type": "code",
   "execution_count": 13,
   "id": "454abb5c-49d3-42e6-867e-f44e25af5e0e",
   "metadata": {},
   "outputs": [
    {
     "name": "stdout",
     "output_type": "stream",
     "text": [
      "这幅图是一张带有幽默感的比较图，展现了两种不同风格的狗狗。左边的狗狗被戏称为“16岁的我”，其形象被处理成一只头部是狗的肌肉发达的人形身体，看起来非常强壮和有力。右边的狗狗被标记为“工作后的我”，其形象是一只表情慵懒、体型稍显臃肿的普通狗狗。\n",
      "\n",
      "图中还包括了一些幽默的文字描述：\n",
      "- 左边狗狗的描述包括“我就是一个光明，每体校园，外表帅气，人见人羡的大帅比”。\n",
      "- 右边狗狗的描述则是“好像有点烦，好想赖着床，蜷成一团不想动，锻炼都是骗人，负担越来越重”。\n",
      "\n",
      "这幅图\n"
     ]
    }
   ],
   "source": [
    "image_url = \"https://p6.itc.cn/q_70/images03/20200602/0c267a0d3d814c9783659eb956969ba1.jpeg\"\n",
    "content = query_image_description(image_url)\n",
    "print(content)"
   ]
  },
  {
   "cell_type": "code",
   "execution_count": null,
   "id": "2471306a-84e2-4793-b065-0741fbe57262",
   "metadata": {},
   "outputs": [],
   "source": []
  },
  {
   "cell_type": "code",
   "execution_count": null,
   "id": "af79850f-83b5-49c4-a3f3-f2c01a28f458",
   "metadata": {},
   "outputs": [],
   "source": []
  },
  {
   "cell_type": "markdown",
   "id": "63ae05bd-872c-4638-8259-df4f420aaa1d",
   "metadata": {},
   "source": [
    "### 使用 GPT-4V 识别本地图像文件（Base64编码）\n"
   ]
  },
  {
   "cell_type": "code",
   "execution_count": 21,
   "id": "1e83da68-d387-46da-8236-78fc607d1fab",
   "metadata": {},
   "outputs": [],
   "source": [
    "from openai import OpenAI\n",
    "import base64\n",
    "import requests\n",
    "import json\n",
    "import os\n",
    "\n",
    "client = OpenAI()  # 初始化 OpenAI 客户端\n",
    "\n",
    "def query_base64_image_description(image_path, prompt=\"解释下图里的内容？\", max_tokens=1000):\n",
    "\n",
    "    # 实现 Base64 编码\n",
    "    def encode_image(path):\n",
    "        with open(path, \"rb\") as image_file:\n",
    "            return base64.b64encode(image_file.read()).decode('utf-8')\n",
    "\n",
    "    # 获取图像的 Base64 编码字符串\n",
    "    base64_image = encode_image(image_path)\n",
    "\n",
    "    # 构造请求的 HTTP Header\n",
    "    headers = {\n",
    "        \"Content-Type\": \"application/json\",\n",
    "        \"Authorization\": f\"Bearer {client.api_key}\"\n",
    "    }\n",
    "\n",
    "    # 构造请求的负载\n",
    "    payload = {\n",
    "        \"model\": \"gpt-4-turbo\",\n",
    "        \"messages\": [\n",
    "            {\n",
    "                \"role\": \"user\",\n",
    "                \"content\": [\n",
    "                    {\"type\": \"text\", \"text\": prompt},\n",
    "                    {\"type\": \"image_url\", \"image_url\": {\"url\": f\"data:image/jpeg;base64,{base64_image}\"}}\n",
    "                ]\n",
    "            }\n",
    "        ],\n",
    "        \"max_tokens\": max_tokens\n",
    "    }\n",
    "\n",
    "    # 发送 HTTP 请求\n",
    "    base_url = os.environ.get(\"OPENAI_BASE_URL\")\n",
    "    response = requests.post(base_url + \"/chat/completions\", headers=headers, json=payload)\n",
    "\n",
    "    # 检查响应并提取所需的 content 字段\n",
    "    if response.status_code == 200:\n",
    "        response_data = response.json()\n",
    "        content = response_data['choices'][0]['message']['content']\n",
    "        return content\n",
    "    else:\n",
    "        return f\"Error: {response.status_code}, {response.text}\""
   ]
  },
  {
   "cell_type": "markdown",
   "id": "89dd0f99-8086-473f-80a4-497e6dd07c17",
   "metadata": {},
   "source": [
    "#### 使用 Assistants API生成的 GDP 40年对比曲线图\n",
    "\n",
    "![gdp_data](./images/gdp_1980_2020.jpg)"
   ]
  },
  {
   "cell_type": "code",
   "execution_count": 22,
   "id": "3c0e9063-e8d9-4bc1-ae60-ad0aa5bee32b",
   "metadata": {},
   "outputs": [
    {
     "name": "stdout",
     "output_type": "stream",
     "text": [
      "这幅图展示的是1980年到2020年间美国、中国、日本和德国的国内生产总值（GDP）对比。图中的纵轴代表GDP的数量（以万亿美元计），横轴则表示年份。\n",
      "\n",
      "- 蓝线代表美国的GDP，可以看到持续上升，显示出美国经济的稳健增长。\n",
      "- 红线代表中国的GDP，从图中可以清楚地看到从1990年代中期开始，中国的GDP增长速度非常快，尤其是进入21世纪后，增长更是显著，逐渐接近美国。\n",
      "- 紫线显示的是日本的GDP，在1990年左右达到顶峰后有所波动，但整体趋势相对平稳。\n",
      "- 绿线代表德国的GDP，增长相对平缓，但也显示出一定的增长趋势。\n",
      "\n",
      "总的来说，这幅图很好地描绘了这四个国家在过去四十年的经济发展轨迹。可以看出中国的快速崛起，以及美国的持续领先地位。同时也反映了日本经济的长期停滞和德国相对稳定的经济表现。\n"
     ]
    }
   ],
   "source": [
    "content = query_base64_image_description(\"./images/gdp_1980_2020.jpg\")\n",
    "print(content)"
   ]
  },
  {
   "cell_type": "markdown",
   "id": "6d18b227-32a6-4450-86bd-c99ad5c533b9",
   "metadata": {},
   "source": [
    "#### 使用 GPT-4V 识别手写体笔记\n",
    "\n",
    "![](./images/handwriting_0.jpg)"
   ]
  },
  {
   "cell_type": "code",
   "execution_count": 24,
   "id": "4193fa11-5edd-404c-9472-0cb8cc6799fc",
   "metadata": {},
   "outputs": [
    {
     "name": "stdout",
     "output_type": "stream",
     "text": [
      "这张图片展示的是一些笔记，内容涉及到机器学习中的prompt tuning和LoRA技术。\n",
      "\n",
      "1. **Prompt Tuning**（提示调整）: 这是一种调整小型模型（例如小型Transformer模型）的方法，通过前置的提示（Prompt）来引导模型的预测。这里列出了如何通过X（输入的嵌入向量）和权重矩阵W来计算输出Y。\n",
      "\n",
      "2. **Prefix Tuning**（前缀调整）: 提到使用特定的前缀向量Wp和W来结合处理X，进而生成Y，适用于Transformer类的模型。\n",
      "\n",
      "3. **LoRA**（Low-rank Adaptation，低秩适应）: 这是另一种模型调整技术，通过修改权重矩阵W的具体形式（W+ΔW），其中ΔW由低秩矩阵A和B的乘积定义，来影响模型的行为。\n",
      "\n",
      "4. 还提到了**Q LoRA**和**LAMA**，这表明笔记的作者在探索各种高级调整和优化策略，以提高模型性能并减少模型占用的存储空间。例如，\"LAMA-65GB，QLoRA-48GB\" 可能指的是通过这些技术优化后模型的大小。\n",
      "\n",
      "这些笔记反映了一位研究者或学生正在学习并应用最新的机器学习技术来改进神经网络模型。这类知识通常用于提升大型语言模型（如GPT、BERT等）的效率和性能。\n"
     ]
    }
   ],
   "source": [
    "content = query_base64_image_description(\"./images/handwriting_0.jpg\")\n",
    "print(content)"
   ]
  },
  {
   "cell_type": "markdown",
   "id": "ca046601-018c-455c-ace2-41392cbda456",
   "metadata": {},
   "source": [
    "#### 在 Jupyter 标准输出中渲染 Markdown 格式内容"
   ]
  },
  {
   "cell_type": "code",
   "execution_count": 26,
   "id": "516ee35b-1337-4b22-aea2-ee0adb706098",
   "metadata": {},
   "outputs": [
    {
     "data": {
      "text/markdown": [
       "此图显示的是一个笔记本上的笔记内容，主要涉及到自然语言处理（NLP）和机器学习特别是关于变换模型（Transformers）的一些高级技术和方法。笔记的内容包括：\n",
       "\n",
       "1. 笔记的左侧部分：\n",
       "    - 提及了“变换模型”、“性能评估”和“基准测试（Benchmark）”。\n",
       "    - 提到了不同的Prompt Tuning方法，如：Adapter (2019, Google), Prefix (2021, Stanford), Prompt (2021, Google)等。\n",
       "    - 还有提到了一些特定的技术和模型，如L2T（Learning to Teach）、Claude、ALPHA、数据集如GPT、XLHF、ChatGPT、MOSS等。\n",
       "\n",
       "2. 笔记的右侧部分：\n",
       "    - 讨论了多模态指令型finetuning (Finetune LLMs)以及LLaMA (3B)模型。\n",
       "    - 引入了新的技术和改进，如LoRA、QLoRA、AdapLoRA。\n",
       "    - 讨论了“Prefix-tuning & Adapters”的不同实现，包括投影下降、非线性投影上升和加入类型。\n",
       "    - 描述了适配器的高级结构，如MAM Adapters和它们如何与不同功能如FFN（Feedforward Network）集成。\n",
       "\n",
       "总的来说，这些笔记覆盖了一系列复杂的机器学习技术，特别是在机器学习模型个性化和微调方面的最新进展。这些笔记看起来是为了学习或研究目的而记录的，其中包含了许多专业术语和概念，适用于对AI技术有深入了解的读者。"
      ],
      "text/plain": [
       "<IPython.core.display.Markdown object>"
      ]
     },
     "metadata": {},
     "output_type": "display_data"
    }
   ],
   "source": [
    "from IPython.display import display, Markdown\n",
    "\n",
    "# 使用 display 和 Markdown 函数显示 Markdown 内容\n",
    "display(Markdown(content))"
   ]
  },
  {
   "cell_type": "markdown",
   "id": "a990ca81-240d-48f7-990f-e0645e7434e6",
   "metadata": {},
   "source": [
    "![](./images/handwriting_1.jpg)"
   ]
  },
  {
   "cell_type": "code",
   "execution_count": 27,
   "id": "7c046958-aa7a-4066-88fa-4134869d9226",
   "metadata": {},
   "outputs": [
    {
     "data": {
      "text/markdown": [
       "这张图片显示的是一份关于自然语言处理和机器学习技术的笔记。笔记中列出了多种技术和概念，重点是Transformers模型的不同适配和调整方法。\n",
       "\n",
       "左边部分的笔记中提及了：\n",
       "1. Transformers和状态（State-of-the-art, SOTA）技术的比较及基准。\n",
       "2. PEFT (可能指某种特定的Fine-tuning技术) 和PBFT Methods。\n",
       "3. Prompt Tuning, 包括不同年份和来源的方法，如Adaptor (2019, Google), Prefix (2021, Stanford), 和Prompt (2021, Google)。\n",
       "4. 提到了一些具体的模型，如Llama（2021）、ChatGPT、Bloom、和Alpaca。\n",
       "\n",
       "右侧部分的笔记提到：\n",
       "1. 多模态指令微调技术（multi-modality instruction fine-tuning)，例如LLaMA (3B)。\n",
       "2. 提到了新技术，如LoRA和PETC（2022），再拓展至具体的技术改变，如GLoRA和Adalora。\n",
       "3. 对于Prefix-tuning和Adaptors的技术探讨较多，提到了它们在LLMs中的应用以及操作原理，如project down、non-learn、project up、insertion form等。\n",
       "\n",
       "此图片提供了关于先进机器学习模型调整技术的快照，适合深入研究自然语言处理或机器学习的技术人员参考。"
      ],
      "text/plain": [
       "<IPython.core.display.Markdown object>"
      ]
     },
     "metadata": {},
     "output_type": "display_data"
    }
   ],
   "source": [
    "content = query_base64_image_description(\"./images/handwriting_1.jpg\")\n",
    "display(Markdown(content))"
   ]
  },
  {
   "cell_type": "code",
   "execution_count": null,
   "id": "8afdeacb-aac1-4692-be2b-fb7957ba5e8f",
   "metadata": {},
   "outputs": [],
   "source": []
  },
  {
   "cell_type": "markdown",
   "id": "ecd36ec9-6396-4a89-bae2-b6b054d2fb60",
   "metadata": {},
   "source": [
    "## Homework: \n",
    "\n",
    "\n",
    "### #1\n",
    "\n",
    "使用 GPT-4V 识别带有手写体文字的本地图像文件，分享结果。\n",
    "\n",
    "![](./images/handwriting_lam.jpg)"
   ]
  },
  {
   "cell_type": "code",
   "execution_count": 28,
   "id": "25c498c1-5b24-493e-8a70-11d100333407",
   "metadata": {},
   "outputs": [
    {
     "name": "stdout",
     "output_type": "stream",
     "text": [
      "这张图片包含了中英文混合的手写文字，首先是中文手写部分，看起来像是关于某个日常记录或思考，但因为部分笔迹不清楚，造成一些文字难以完全确认。此外，图片下方写有英文：“This is for Lambert Lin testing content in ChatGPT-HD, content contains English and Chinese.”这句话意味这张纸是为了测试Lambert Lin在ChatGPT-HD中的内容，且内容包含中文和英文。\n",
      "\n",
      "如果需要更准确地翻译或理解中文部分的具体内容，可能需要更清晰的图片或其他帮助。但整体来看，图片似乎用于某种测试目的，涉及到多语言处理。\n"
     ]
    }
   ],
   "source": [
    "content = query_base64_image_description(\"./images/handwriting_lam.jpg\", prompt=\"帮我解析内容是什么并解释一下内容\")\n",
    "print(content)"
   ]
  },
  {
   "cell_type": "code",
   "execution_count": null,
   "id": "2b656049-90e0-4091-84df-15943845aab3",
   "metadata": {},
   "outputs": [],
   "source": []
  },
  {
   "cell_type": "markdown",
   "id": "fb84857f-4855-4248-a1dc-d7f1804db1a5",
   "metadata": {},
   "source": [
    "## Homework: \n",
    "### #2\n",
    "\n",
    "整合 `query_base64_image_description` 函数和 Markdown 格式渲染方法，使得输出结果更易阅读。"
   ]
  }
 ],
 "metadata": {
  "kernelspec": {
   "display_name": "langchain",
   "language": "python",
   "name": "langchain"
  },
  "language_info": {
   "codemirror_mode": {
    "name": "ipython",
    "version": 3
   },
   "file_extension": ".py",
   "mimetype": "text/x-python",
   "name": "python",
   "nbconvert_exporter": "python",
   "pygments_lexer": "ipython3",
   "version": "3.10.14"
  }
 },
 "nbformat": 4,
 "nbformat_minor": 5
}
